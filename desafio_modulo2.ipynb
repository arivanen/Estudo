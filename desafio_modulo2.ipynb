{
 "cells": [
  {
   "cell_type": "code",
   "execution_count": 1,
   "metadata": {},
   "outputs": [],
   "source": [
    "import pandas as pd\n",
    "import numpy as np\n",
    "import collections"
   ]
  },
  {
   "cell_type": "code",
   "execution_count": 2,
   "metadata": {},
   "outputs": [
    {
     "data": {
      "text/html": [
       "<div>\n",
       "<style scoped>\n",
       "    .dataframe tbody tr th:only-of-type {\n",
       "        vertical-align: middle;\n",
       "    }\n",
       "\n",
       "    .dataframe tbody tr th {\n",
       "        vertical-align: top;\n",
       "    }\n",
       "\n",
       "    .dataframe thead th {\n",
       "        text-align: right;\n",
       "    }\n",
       "</style>\n",
       "<table border=\"1\" class=\"dataframe\">\n",
       "  <thead>\n",
       "    <tr style=\"text-align: right;\">\n",
       "      <th></th>\n",
       "      <th>datetime</th>\n",
       "      <th>rec_id</th>\n",
       "      <th>season</th>\n",
       "      <th>year</th>\n",
       "      <th>month</th>\n",
       "      <th>hour</th>\n",
       "      <th>is_holiday</th>\n",
       "      <th>weekday</th>\n",
       "      <th>is_workingday</th>\n",
       "      <th>weather_condition</th>\n",
       "      <th>temp</th>\n",
       "      <th>atemp</th>\n",
       "      <th>humidity</th>\n",
       "      <th>windspeed</th>\n",
       "      <th>casual</th>\n",
       "      <th>registered</th>\n",
       "      <th>total_count</th>\n",
       "    </tr>\n",
       "  </thead>\n",
       "  <tbody>\n",
       "    <tr>\n",
       "      <th>0</th>\n",
       "      <td>2011-01-01</td>\n",
       "      <td>1</td>\n",
       "      <td>1</td>\n",
       "      <td>0</td>\n",
       "      <td>1</td>\n",
       "      <td>0</td>\n",
       "      <td>0</td>\n",
       "      <td>6</td>\n",
       "      <td>0</td>\n",
       "      <td>1</td>\n",
       "      <td>0.24</td>\n",
       "      <td>0.2879</td>\n",
       "      <td>0.81</td>\n",
       "      <td>0.0</td>\n",
       "      <td>3</td>\n",
       "      <td>13</td>\n",
       "      <td>16</td>\n",
       "    </tr>\n",
       "    <tr>\n",
       "      <th>1</th>\n",
       "      <td>2011-01-01</td>\n",
       "      <td>2</td>\n",
       "      <td>1</td>\n",
       "      <td>0</td>\n",
       "      <td>1</td>\n",
       "      <td>1</td>\n",
       "      <td>0</td>\n",
       "      <td>6</td>\n",
       "      <td>0</td>\n",
       "      <td>1</td>\n",
       "      <td>0.22</td>\n",
       "      <td>0.2727</td>\n",
       "      <td>0.80</td>\n",
       "      <td>0.0</td>\n",
       "      <td>8</td>\n",
       "      <td>32</td>\n",
       "      <td>40</td>\n",
       "    </tr>\n",
       "    <tr>\n",
       "      <th>2</th>\n",
       "      <td>2011-01-01</td>\n",
       "      <td>3</td>\n",
       "      <td>1</td>\n",
       "      <td>0</td>\n",
       "      <td>1</td>\n",
       "      <td>2</td>\n",
       "      <td>0</td>\n",
       "      <td>6</td>\n",
       "      <td>0</td>\n",
       "      <td>1</td>\n",
       "      <td>0.22</td>\n",
       "      <td>0.2727</td>\n",
       "      <td>0.80</td>\n",
       "      <td>0.0</td>\n",
       "      <td>5</td>\n",
       "      <td>27</td>\n",
       "      <td>32</td>\n",
       "    </tr>\n",
       "    <tr>\n",
       "      <th>3</th>\n",
       "      <td>2011-01-01</td>\n",
       "      <td>4</td>\n",
       "      <td>1</td>\n",
       "      <td>0</td>\n",
       "      <td>1</td>\n",
       "      <td>3</td>\n",
       "      <td>0</td>\n",
       "      <td>6</td>\n",
       "      <td>0</td>\n",
       "      <td>1</td>\n",
       "      <td>0.24</td>\n",
       "      <td>0.2879</td>\n",
       "      <td>0.75</td>\n",
       "      <td>0.0</td>\n",
       "      <td>3</td>\n",
       "      <td>10</td>\n",
       "      <td>13</td>\n",
       "    </tr>\n",
       "    <tr>\n",
       "      <th>4</th>\n",
       "      <td>2011-01-01</td>\n",
       "      <td>5</td>\n",
       "      <td>1</td>\n",
       "      <td>0</td>\n",
       "      <td>1</td>\n",
       "      <td>4</td>\n",
       "      <td>0</td>\n",
       "      <td>6</td>\n",
       "      <td>0</td>\n",
       "      <td>1</td>\n",
       "      <td>0.24</td>\n",
       "      <td>0.2879</td>\n",
       "      <td>0.75</td>\n",
       "      <td>0.0</td>\n",
       "      <td>0</td>\n",
       "      <td>1</td>\n",
       "      <td>1</td>\n",
       "    </tr>\n",
       "  </tbody>\n",
       "</table>\n",
       "</div>"
      ],
      "text/plain": [
       "     datetime  rec_id  season  year  month  hour  is_holiday  weekday  \\\n",
       "0  2011-01-01       1       1     0      1     0           0        6   \n",
       "1  2011-01-01       2       1     0      1     1           0        6   \n",
       "2  2011-01-01       3       1     0      1     2           0        6   \n",
       "3  2011-01-01       4       1     0      1     3           0        6   \n",
       "4  2011-01-01       5       1     0      1     4           0        6   \n",
       "\n",
       "   is_workingday  weather_condition  temp   atemp  humidity  windspeed  \\\n",
       "0              0                  1  0.24  0.2879      0.81        0.0   \n",
       "1              0                  1  0.22  0.2727      0.80        0.0   \n",
       "2              0                  1  0.22  0.2727      0.80        0.0   \n",
       "3              0                  1  0.24  0.2879      0.75        0.0   \n",
       "4              0                  1  0.24  0.2879      0.75        0.0   \n",
       "\n",
       "   casual  registered  total_count  \n",
       "0       3          13           16  \n",
       "1       8          32           40  \n",
       "2       5          27           32  \n",
       "3       3          10           13  \n",
       "4       0           1            1  "
      ]
     },
     "execution_count": 2,
     "metadata": {},
     "output_type": "execute_result"
    }
   ],
   "source": [
    "df= pd.read_csv(\"bike-sharing.csv\")\n",
    "df.head()"
   ]
  },
  {
   "cell_type": "code",
   "execution_count": 3,
   "metadata": {},
   "outputs": [
    {
     "data": {
      "text/plain": [
       "(17379, 17)"
      ]
     },
     "execution_count": 3,
     "metadata": {},
     "output_type": "execute_result"
    }
   ],
   "source": [
    "#Qual o tamanho desse dataset?\n",
    "df.shape"
   ]
  },
  {
   "cell_type": "code",
   "execution_count": 4,
   "metadata": {},
   "outputs": [
    {
     "data": {
      "text/plain": [
       "0.19009760630646177"
      ]
     },
     "execution_count": 4,
     "metadata": {},
     "output_type": "execute_result"
    }
   ],
   "source": [
    "#Qual a média da coluna windspeed?\n",
    "df['windspeed'].mean()"
   ]
  },
  {
   "cell_type": "code",
   "execution_count": 5,
   "metadata": {},
   "outputs": [
    {
     "data": {
      "text/plain": [
       "0.4969871684216583"
      ]
     },
     "execution_count": 5,
     "metadata": {},
     "output_type": "execute_result"
    }
   ],
   "source": [
    "#Qual a média da coluna temp?\n",
    "df['temp'].mean()"
   ]
  },
  {
   "cell_type": "code",
   "execution_count": 17,
   "metadata": {},
   "outputs": [
    {
     "data": {
      "text/plain": [
       "(8645, 17)"
      ]
     },
     "execution_count": 17,
     "metadata": {},
     "output_type": "execute_result"
    }
   ],
   "source": [
    "#Quantos registros existem para o ano de 2011?\n",
    "ano_2011 =df.loc[df['year']==0]\n",
    "ano_2011.shape\n"
   ]
  },
  {
   "cell_type": "code",
   "execution_count": 11,
   "metadata": {},
   "outputs": [
    {
     "name": "stdout",
     "output_type": "stream",
     "text": [
      "1243103\n"
     ]
    }
   ],
   "source": [
    "#Quantas locações de bicicletas foram efetuadas em 2011? \n",
    "print(ano_2011['total_count'].sum())"
   ]
  },
  {
   "cell_type": "code",
   "execution_count": 16,
   "metadata": {},
   "outputs": [
    {
     "data": {
      "text/plain": [
       "(8734, 17)"
      ]
     },
     "execution_count": 16,
     "metadata": {},
     "output_type": "execute_result"
    }
   ],
   "source": [
    "#Quantos registros existem para o ano de 2012?\n",
    "ano_2012= df.loc[df['year']==1]\n",
    "ano_2012.shape"
   ]
  },
  {
   "cell_type": "code",
   "execution_count": 49,
   "metadata": {},
   "outputs": [
    {
     "name": "stdout",
     "output_type": "stream",
     "text": [
      "2049576\n"
     ]
    }
   ],
   "source": [
    "#Quantas locações de bicicletas foram efetuadas em 2012? \n",
    "print(ano_2012['total_count'].sum())"
   ]
  },
  {
   "cell_type": "code",
   "execution_count": 50,
   "metadata": {},
   "outputs": [
    {
     "name": "stdout",
     "output_type": "stream",
     "text": [
      "Média inverno: 111.11456859971712\n",
      "Média primavera: 208.34406894987526\n",
      "Média verao: 236.01623665480426\n",
      "Média outono: 198.86885633270322\n"
     ]
    }
   ],
   "source": [
    "# Qual estação do ano contém a maior média de locações de bicicletas?\n",
    "df_inverno= df.loc[df['season']==1]\n",
    "print('Média inverno:',df_inverno['total_count'].mean())\n",
    "\n",
    "df_primavera= df.loc[df['season']==2]\n",
    "print('Média primavera:',df_primavera['total_count'].mean())\n",
    "\n",
    "df_verao= df.loc[df['season']==3]\n",
    "print('Média verao:',df_verao['total_count'].mean())\n",
    "\n",
    "df_outono= df.loc[df['season']==4]\n",
    "print('Média outono:',df_outono['total_count'].mean())\n"
   ]
  },
  {
   "cell_type": "code",
   "execution_count": 41,
   "metadata": {},
   "outputs": [
    {
     "name": "stdout",
     "output_type": "stream",
     "text": [
      "[(17, 461.45205479452056), (18, 425.510989010989), (8, 359.01100412654745), (16, 311.9835616438356), (19, 311.52335164835165), (13, 253.66117969821673), (12, 253.31593406593407), (15, 251.2331961591221), (14, 240.94924554183814), (20, 226.03021978021977), (9, 219.30949105914718), (7, 212.0646492434663), (11, 208.1430536451169), (10, 173.6685006877579), (21, 172.31456043956044), (22, 131.33516483516485), (23, 87.83104395604396), (6, 76.04413793103448), (0, 53.89807162534435), (1, 33.3756906077348), (2, 22.86993006993007), (5, 19.88981868898187), (3, 11.727403156384504), (4, 6.352941176470588)]\n"
     ]
    }
   ],
   "source": [
    "#Qual horário do dia contém a maior média de locações de bicicletas?\n",
    "df_horas= df.filter(items=['total_count','hour'])\n",
    "\n",
    "media_hora={}\n",
    "\n",
    "for horas in range(0,24):\n",
    "    df_filtro= df_horas.loc[df['hour']== horas]\n",
    "    media= df_filtro['total_count'].mean()\n",
    "    media_hora.update({horas : media})\n",
    "\n",
    "sorted_media= sorted(media_hora.items(), key=lambda x: x[1], reverse=True)\n",
    "print(sorted_media)"
   ]
  },
  {
   "cell_type": "code",
   "execution_count": 40,
   "metadata": {},
   "outputs": [
    {
     "data": {
      "text/html": [
       "<div>\n",
       "<style scoped>\n",
       "    .dataframe tbody tr th:only-of-type {\n",
       "        vertical-align: middle;\n",
       "    }\n",
       "\n",
       "    .dataframe tbody tr th {\n",
       "        vertical-align: top;\n",
       "    }\n",
       "\n",
       "    .dataframe thead th {\n",
       "        text-align: right;\n",
       "    }\n",
       "</style>\n",
       "<table border=\"1\" class=\"dataframe\">\n",
       "  <thead>\n",
       "    <tr style=\"text-align: right;\">\n",
       "      <th></th>\n",
       "      <th>total_count</th>\n",
       "      <th>hour</th>\n",
       "    </tr>\n",
       "  </thead>\n",
       "  <tbody>\n",
       "    <tr>\n",
       "      <th>1</th>\n",
       "      <td>40</td>\n",
       "      <td>1</td>\n",
       "    </tr>\n",
       "    <tr>\n",
       "      <th>25</th>\n",
       "      <td>17</td>\n",
       "      <td>1</td>\n",
       "    </tr>\n",
       "    <tr>\n",
       "      <th>48</th>\n",
       "      <td>2</td>\n",
       "      <td>1</td>\n",
       "    </tr>\n",
       "    <tr>\n",
       "      <th>70</th>\n",
       "      <td>2</td>\n",
       "      <td>1</td>\n",
       "    </tr>\n",
       "    <tr>\n",
       "      <th>93</th>\n",
       "      <td>6</td>\n",
       "      <td>1</td>\n",
       "    </tr>\n",
       "    <tr>\n",
       "      <th>...</th>\n",
       "      <td>...</td>\n",
       "      <td>...</td>\n",
       "    </tr>\n",
       "    <tr>\n",
       "      <th>17260</th>\n",
       "      <td>5</td>\n",
       "      <td>1</td>\n",
       "    </tr>\n",
       "    <tr>\n",
       "      <th>17284</th>\n",
       "      <td>9</td>\n",
       "      <td>1</td>\n",
       "    </tr>\n",
       "    <tr>\n",
       "      <th>17308</th>\n",
       "      <td>37</td>\n",
       "      <td>1</td>\n",
       "    </tr>\n",
       "    <tr>\n",
       "      <th>17332</th>\n",
       "      <td>28</td>\n",
       "      <td>1</td>\n",
       "    </tr>\n",
       "    <tr>\n",
       "      <th>17356</th>\n",
       "      <td>19</td>\n",
       "      <td>1</td>\n",
       "    </tr>\n",
       "  </tbody>\n",
       "</table>\n",
       "<p>724 rows × 2 columns</p>\n",
       "</div>"
      ],
      "text/plain": [
       "       total_count  hour\n",
       "1               40     1\n",
       "25              17     1\n",
       "48               2     1\n",
       "70               2     1\n",
       "93               6     1\n",
       "...            ...   ...\n",
       "17260            5     1\n",
       "17284            9     1\n",
       "17308           37     1\n",
       "17332           28     1\n",
       "17356           19     1\n",
       "\n",
       "[724 rows x 2 columns]"
      ]
     },
     "execution_count": 40,
     "metadata": {},
     "output_type": "execute_result"
    }
   ],
   "source": [
    "df_horas= df.filter(items=['total_count','hour'])\n",
    "df_filtro= df_horas.loc[df['hour']==1]\n",
    "df_filtro\n",
    "#print(df_filtro['total_count'].mean())\n"
   ]
  },
  {
   "cell_type": "code",
   "execution_count": 42,
   "metadata": {},
   "outputs": [
    {
     "name": "stdout",
     "output_type": "stream",
     "text": [
      "[(4, 196.43666531768514), (5, 196.13590671491758), (2, 191.23889115368937), (3, 191.13050505050506), (6, 190.20979299363057), (1, 183.74465510286404), (0, 177.46882494004797)]\n"
     ]
    }
   ],
   "source": [
    "#Que dia da semana contém a maior média de locações de bicicletas?\n",
    "\n",
    "df_dia= df.filter(items=['total_count','weekday'])\n",
    "media_dia={}\n",
    "\n",
    "for dia in range(0,7):\n",
    "    df_filtro= df_dia.loc[df['weekday']== dia]\n",
    "    media_dia.update({dia : df_filtro['total_count'].mean()})\n",
    "\n",
    "sorted_dia= sorted(media_dia.items(), key=lambda x: x[1], reverse=True)\n",
    "print(sorted_dia)\n",
    "\n",
    "#weekday: dia da semana (0: domingo, 1: segunda-feira, ..., 6: sábado);\n",
    "#maior: segunda\n",
    "#menor: terça\n"
   ]
  },
  {
   "cell_type": "code",
   "execution_count": 46,
   "metadata": {},
   "outputs": [
    {
     "name": "stdout",
     "output_type": "stream",
     "text": [
      "[(17, 513.1442307692307), (18, 494.02912621359224), (8, 488.3269230769231), (19, 357.50485436893206), (7, 303.9807692307692), (16, 272.96153846153845), (20, 256.6601941747573), (9, 238.52884615384616), (21, 194.66990291262135), (12, 193.90384615384616), (13, 185.82692307692307), (15, 181.28846153846155), (14, 170.54807692307693), (11, 152.20192307692307), (22, 143.6893203883495), (10, 131.89423076923077), (6, 107.8076923076923), (23, 83.7378640776699), (0, 34.55769230769231), (5, 25.75), (1, 15.336538461538462), (2, 7.813725490196078), (4, 4.96875), (3, 4.888888888888889)]\n"
     ]
    }
   ],
   "source": [
    "#Às quartas-feiras (weekday = 3), qual o horário do dia que contém a maior média de locações de bicicletas?\n",
    "\n",
    "df_quarta= df.filter(items=['total_count','hour','weekday'])\n",
    "df_quarta_novo= df_quarta.loc[df_quarta['weekday']==3]\n",
    "\n",
    "for horas in range(0,24):\n",
    "    df_filtro= df_quarta_novo.loc[df['hour']== horas]\n",
    "    #df_filtro= df_quarta_novo.filter(like= str(horas), axis= 0)\n",
    "    media_hora.update({horas : df_filtro['total_count'].mean()})\n",
    "\n",
    "sorted_media= sorted(media_hora.items(), key=lambda x: x[1], reverse=True)\n",
    "print(sorted_media)\n",
    "\n",
    "\n",
    "\n"
   ]
  },
  {
   "cell_type": "code",
   "execution_count": 48,
   "metadata": {},
   "outputs": [
    {
     "name": "stdout",
     "output_type": "stream",
     "text": [
      "[(13, 385.37142857142857), (15, 382.42857142857144), (14, 381.3333333333333), (12, 375.3809523809524), (16, 366.14285714285717), (17, 334.4095238095238), (11, 328.6095238095238), (18, 292.0480769230769), (10, 263.7238095238095), (19, 239.93269230769232), (9, 186.7904761904762), (20, 180.8653846153846), (21, 156.0), (22, 139.66346153846155), (23, 115.85576923076923), (8, 114.47619047619048), (0, 94.3047619047619), (1, 67.78095238095239), (2, 50.49523809523809), (7, 45.96190476190476), (3, 22.885714285714286), (6, 21.0), (5, 8.29126213592233), (4, 7.6571428571428575)]\n"
     ]
    }
   ],
   "source": [
    "#Aos sábados (weekday = 6), qual o horário do dia que contém a maior média de locações de bicicletas?\n",
    "\n",
    "df_sabado= df.filter(items=['total_count','hour','weekday'])\n",
    "df_sabado_novo= df_sabado.loc[df_sabado['weekday']==6]\n",
    "\n",
    "for horas in range(0,24):\n",
    "    df_filtro_sab= df_sabado_novo.loc[df['hour']== horas]\n",
    "    #df_filtro_sab= df_sabado_novo.filter(like= str(horas), axis= 0)\n",
    "    media_hora.update({horas : df_filtro_sab['total_count'].mean()})\n",
    "\n",
    "sabado= sorted(media_hora.items(), key=lambda x: x[1], reverse=True)\n",
    "print(sabado)"
   ]
  }
 ],
 "metadata": {
  "kernelspec": {
   "display_name": "Python 3.10.5 64-bit",
   "language": "python",
   "name": "python3"
  },
  "language_info": {
   "codemirror_mode": {
    "name": "ipython",
    "version": 3
   },
   "file_extension": ".py",
   "mimetype": "text/x-python",
   "name": "python",
   "nbconvert_exporter": "python",
   "pygments_lexer": "ipython3",
   "version": "3.10.5"
  },
  "orig_nbformat": 4,
  "vscode": {
   "interpreter": {
    "hash": "26de051ba29f2982a8de78e945f0abaf191376122a1563185a90213a26c5da77"
   }
  }
 },
 "nbformat": 4,
 "nbformat_minor": 2
}
